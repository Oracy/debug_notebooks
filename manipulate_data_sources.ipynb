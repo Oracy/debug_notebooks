{
 "cells": [
  {
   "cell_type": "code",
   "execution_count": 2,
   "id": "26b07bfa",
   "metadata": {},
   "outputs": [],
   "source": [
    "import pandas as pd"
   ]
  },
  {
   "cell_type": "code",
   "execution_count": 31,
   "id": "84273ca5",
   "metadata": {},
   "outputs": [],
   "source": [
    "# dicionario = pd.read_csv(\"./source_tables/dicionario.csv\")\n",
    "# municipio = pd.read_csv(\"./source_tables/municipio.csv\")\n",
    "# municipio_causa_idade = pd.read_csv(\"./source_tables/municipio_causa_idade.csv\")\n",
    "# # microdados = pd.read_csv(\"./source_tables/\")\n",
    "# municipio_causa = pd.read_csv(\"./source_tables/municipio_causa.csv\")\n",
    "municipio_causa_idade_sexo_raca = pd.read_csv(\"./source_tables/municipio_causa_idade_sexo_raca.csv\")"
   ]
  },
  {
   "cell_type": "markdown",
   "id": "421c55a2",
   "metadata": {},
   "source": [
    "# Create tables from data above"
   ]
  },
  {
   "cell_type": "markdown",
   "id": "b803fd89",
   "metadata": {},
   "source": [
    "---\n",
    "\n",
    "## Dicionario\n",
    "\n",
    "SQL:\n",
    "\n",
    "```sql\n",
    "create table dicionario (\n",
    "    id_tabela varchar(31),\n",
    "    coluna varchar(30),\n",
    "    chave varchar(3),\n",
    "    cobertura_temporal varchar(11),\n",
    "    valor varchar(70)\n",
    ");\n",
    "```"
   ]
  },
  {
   "cell_type": "code",
   "execution_count": 8,
   "id": "ec1dff80",
   "metadata": {},
   "outputs": [
    {
     "data": {
      "text/plain": [
       "id_tabela             object\n",
       "coluna                object\n",
       "chave                 object\n",
       "cobertura_temporal    object\n",
       "valor                 object\n",
       "dtype: object"
      ]
     },
     "execution_count": 8,
     "metadata": {},
     "output_type": "execute_result"
    }
   ],
   "source": [
    "dicionario.dtypes"
   ]
  },
  {
   "cell_type": "code",
   "execution_count": 9,
   "id": "b67ee3f4",
   "metadata": {
    "scrolled": true
   },
   "outputs": [
    {
     "data": {
      "text/html": [
       "<div>\n",
       "<style scoped>\n",
       "    .dataframe tbody tr th:only-of-type {\n",
       "        vertical-align: middle;\n",
       "    }\n",
       "\n",
       "    .dataframe tbody tr th {\n",
       "        vertical-align: top;\n",
       "    }\n",
       "\n",
       "    .dataframe thead th {\n",
       "        text-align: right;\n",
       "    }\n",
       "</style>\n",
       "<table border=\"1\" class=\"dataframe\">\n",
       "  <thead>\n",
       "    <tr style=\"text-align: right;\">\n",
       "      <th></th>\n",
       "      <th>id_tabela</th>\n",
       "      <th>coluna</th>\n",
       "      <th>chave</th>\n",
       "      <th>cobertura_temporal</th>\n",
       "      <th>valor</th>\n",
       "    </tr>\n",
       "  </thead>\n",
       "  <tbody>\n",
       "    <tr>\n",
       "      <th>0</th>\n",
       "      <td>microdados</td>\n",
       "      <td>tipo_obito</td>\n",
       "      <td>1</td>\n",
       "      <td>1996(1)2019</td>\n",
       "      <td>Fetal</td>\n",
       "    </tr>\n",
       "    <tr>\n",
       "      <th>1</th>\n",
       "      <td>microdados</td>\n",
       "      <td>tipo_obito</td>\n",
       "      <td>2</td>\n",
       "      <td>1996(1)2019</td>\n",
       "      <td>Não-fetal</td>\n",
       "    </tr>\n",
       "    <tr>\n",
       "      <th>2</th>\n",
       "      <td>microdados</td>\n",
       "      <td>naturalidade</td>\n",
       "      <td>1</td>\n",
       "      <td>1996(1)2019</td>\n",
       "      <td>ABU DABI</td>\n",
       "    </tr>\n",
       "    <tr>\n",
       "      <th>3</th>\n",
       "      <td>microdados</td>\n",
       "      <td>naturalidade</td>\n",
       "      <td>2</td>\n",
       "      <td>1996(1)2019</td>\n",
       "      <td>ACORES</td>\n",
       "    </tr>\n",
       "    <tr>\n",
       "      <th>4</th>\n",
       "      <td>microdados</td>\n",
       "      <td>naturalidade</td>\n",
       "      <td>3</td>\n",
       "      <td>1996(1)2019</td>\n",
       "      <td>AFEGANISTAO</td>\n",
       "    </tr>\n",
       "  </tbody>\n",
       "</table>\n",
       "</div>"
      ],
      "text/plain": [
       "    id_tabela        coluna chave cobertura_temporal        valor\n",
       "0  microdados    tipo_obito     1        1996(1)2019        Fetal\n",
       "1  microdados    tipo_obito     2        1996(1)2019    Não-fetal\n",
       "2  microdados  naturalidade     1        1996(1)2019     ABU DABI\n",
       "3  microdados  naturalidade     2        1996(1)2019       ACORES\n",
       "4  microdados  naturalidade     3        1996(1)2019  AFEGANISTAO"
      ]
     },
     "execution_count": 9,
     "metadata": {},
     "output_type": "execute_result"
    }
   ],
   "source": [
    "dicionario.head()"
   ]
  },
  {
   "cell_type": "code",
   "execution_count": 28,
   "id": "db78db4e",
   "metadata": {
    "collapsed": true
   },
   "outputs": [
    {
     "data": {
      "text/plain": [
       "array(['Fetal', 'Não-fetal', 'ABU DABI', 'ACORES', 'AFEGANISTAO',\n",
       "       'AFRICA DO SUL', 'AIMAN', 'ALBANIA', 'ALEMANHA', 'ANDORRA',\n",
       "       'ANGOLA', 'ANTILHAS HOLANDESAS', 'ANGUILLA', 'ANTIGUA',\n",
       "       'ARABIA SAUDITA', 'ARGELIA', 'ARGENTINA', 'ARMENIA', 'ARUBA',\n",
       "       'AUSTRALIA', 'AUSTRIA', 'AZERBAIDJAO', 'BAHAMAS', 'BAHREIN, ILHA',\n",
       "       'BALEARES, ILHAS', 'BANGLADESH', 'BARBADOS', 'BELGICA', 'BELIZE',\n",
       "       'BENIN', 'BERMUDAS', 'BIELORRUSSIA', 'BIRMANIA', 'BOLIVIA',\n",
       "       'BONAIRE', 'BOTSWANA', 'BRUNEI', 'BULGARIA', 'BURUNDI',\n",
       "       'BURKINA FASSO(ALTO VOLTA)', 'BUTAO', 'CABO VERDE', 'CAICOS, ILHA',\n",
       "       'CAMEROON', 'CAMBOJA', 'LAOS', 'CANADA', 'CANARIAS',\n",
       "       'CAROLINAS, ILHAS', 'CASAQUISTAO', 'CAYMAN, ILHAS',\n",
       "       'CEUTA E MELILLA', 'CHADE', 'CHILE', 'CHINA', 'CHIPRE',\n",
       "       'CHRISTMAS, ILHA', 'CINGAPURA', 'COCOS, ILHAS', 'COLOMBIA',\n",
       "       'COMORES, ILHAS', 'CONGO', 'COOK, ILHAS', 'COREIA DO NORTE',\n",
       "       'COREIA DO SUL', 'COSTA DO MARFIM', 'COSTA RICA', 'CUBA',\n",
       "       'CURACAO', 'DINAMARCA', 'DJIBUTI', 'DOMINICA', 'DUBAI', 'EGITO',\n",
       "       'EIRE', 'IRLANDA', 'EL SALVADOR', 'EQUADOR', 'ESCOCIA', 'ESPANHA',\n",
       "       'ESTADOS UNIDOS', 'ESTONIA', 'ETIOPIA', 'FALKLAND, ILHAS',\n",
       "       'MALVINAS, ILHAS', 'FAROE, ILHAS', 'FIJI', 'FILIPINAS',\n",
       "       'FINLANDIA', 'FORMOSA', 'FRANCA', 'FUJAIRA', 'FUTUNA, ILHAS',\n",
       "       'GABAO', 'GALAPAGOS, ILHAS', 'GALES, (PAIS DE)', 'GAMBIA', 'GANA',\n",
       "       'GEORGIA', 'GIBRALTAR', 'GRA-BRETANHA', 'GRANADA', 'GRECIA',\n",
       "       'GROENLANDIA', 'GUADALUPE', 'GUAM', 'GUATEMALA', 'GUIANA FRANCESA',\n",
       "       'GUYANA', 'GUINE', 'GUINE-BISSAU', 'GUINE-EQUATORIAL', 'HAITI',\n",
       "       'HOLANDA', 'HONDURAS', 'HONDURAS BRITANICAS', 'HONG KONG',\n",
       "       'HUNGRIA', 'IEMEN', 'IEMEN DO SUL', 'INDIA', 'INDONESIA',\n",
       "       'INGLATERRA', 'IRA', 'IRAQUE', 'IRLANDA DO NORTE', 'ISLANDIA',\n",
       "       'ISRAEL', 'ITALIA', 'JAMAICA', 'JAPAO', 'JOHNSTON, ILHA',\n",
       "       'JORDANIA', 'JUAN FERNANDES, ILHAS', 'KIRIBATI', 'KUWEIT',\n",
       "       'LESOTO', 'LETONIA', 'LIBANO', 'LIBERIA', 'LIBIA', 'LIECHTENSTEIN',\n",
       "       'LITUANIA', 'LUXEMBURGO', 'MACAU', 'MADAGASCAR', 'MADEIRA',\n",
       "       'MALAISIA', 'MALAWI', 'MALDIVAS', 'MALI', 'MALTA', 'MAN, ILHA DE',\n",
       "       'MARIANAS, ILHAS', 'MARQUESAS, ILHAS', 'MARROCOS',\n",
       "       'MARSHAL, ILHAS', 'MARTINICA', 'MAYOTTE', 'MAURICIUS',\n",
       "       'MAURITANIA', 'MELILLA', 'MEXICO', 'MIDWAY, ILHAS', 'MOCAMBIQUE',\n",
       "       'MOLDAVIA', 'MONACO', 'MONGOLIA', 'MONTSERRAT', 'NAMIBIA',\n",
       "       'NASSAU', 'NAURU', 'NEPAL', 'NEVIS', 'NICARAGUA', 'NIGER',\n",
       "       'NIGERIA', 'NORFOLK, ILHA', 'NORUEGA', 'NOVA CALEDONIA',\n",
       "       'NOVA GUINE', 'NOVA ZELANDIA', 'NOVE, ILHAS', 'OMA', 'PANAMA',\n",
       "       'PAPUA NOVA GUINE', 'PAQUISTAO', 'PARAGUAI', 'PASCOA, ILHA',\n",
       "       'PERU', 'POLINESIA FRANCESA', 'POLONIA', 'PORTO RICO', 'PORTUGAL',\n",
       "       'PITCAIRN, ILHA', 'QATAR', 'QUENIA', 'QUIRGUIZIA', 'REINO UNIDO',\n",
       "       'REPUBLICA CENTRO-AFRICANA', 'REPUBLICA DOMINICANA', 'REUNIAO',\n",
       "       'ROMENIA', 'RUANDA', 'RUSSIA', 'SAARA OCIDENTAL', 'SABA, ILHA',\n",
       "       'SAO CRISTOVAO E NEVIS', 'SAINT MAARTEN, ILHAS',\n",
       "       'SAINT PIERRE E MIQUELON,I', 'SALOMAO, ILHAS',\n",
       "       'SAMOA AMERICANA, ILHAS', 'SAMOA ISISIFO (OCIDENTAL)',\n",
       "       'SAN MARINO', 'SANTA LUCIA, ILHA', 'SANTO EUSTAQUIO, ILHA',\n",
       "       'SAO TOME E PRINCIPE', 'SAO VICENTE E GRANADINAS', 'SENEGAL',\n",
       "       'SERRA LEOA', 'SEYCHELLES', 'SIRIA', 'SOCIEDADE, ILHAS', 'SOMALIA',\n",
       "       'SRI LANKA', 'SUAZILANDIA', 'SUDAO', 'SUECIA', 'SUISSA',\n",
       "       'SURINAME', 'TADJIQUISTAO', 'TAILANDIA', 'TANZANIA', 'TASMANIA',\n",
       "       'TCHAD', 'TCHECO E ESLOVAQUIA', 'TIMOR', 'TOGO', 'TOKELAU',\n",
       "       'TONGA', 'TUVALU', 'TRINIDAD AND TOBAGO', 'TUAMOTU', 'TUBUAI',\n",
       "       'TUNISIA', 'TURCOMENISTAO', 'TURKS, ILHA', 'TURQUIA', 'UCRANIA',\n",
       "       'UGANDA', 'UNIAO DOS EMIRADOS ARABES', 'UNIAO SOVIETICA',\n",
       "       'URUGUAI', 'UZBEQUISTAO', 'VANUATU', 'VATICANO', 'VENEZUELA',\n",
       "       'VIETNA', 'VIRGENS NORTE-AMERICANAS', 'VIRGENS BRITANICAS,ILHAS',\n",
       "       'WALLIS, ILHA', 'YUGOSLAVIA', 'ZAIRE', 'ZAMBIA', 'ZIMBABUE',\n",
       "       'ZONA DO CANAL DO PANAMA', 'BRASIL', 'RONDONIA', 'ACRE',\n",
       "       'AMAZONAS', 'RORAIMA', 'PARA', 'AMAPA', 'TOCANTINS', 'MARANHAO',\n",
       "       'PIAUI', 'CEARA', 'RIO GRANDE DO NORTE', 'PARAIBA', 'PERNAMBUCO',\n",
       "       'ALAGOAS', 'SERGIPE', 'BAHIA', 'MINAS GERAIS', 'ESPIRITO SANTO',\n",
       "       'RIO DE JANEIRO', 'SAO PAULO', 'SANTA CATARINA',\n",
       "       'RIO GRANDE DO SUL', 'MATO GROSSO DO SUL', 'MATO GROSSO', 'GOIAS',\n",
       "       'PARANA', 'DISTRITO FEDERAL', nan, 'Masculino', 'Feminino',\n",
       "       'Branca', 'Preta', 'Amarela', 'Parda', 'Indígena', 'Solteiro(a)',\n",
       "       'Casado(a)', 'Viúvo(a)', 'Separado(a)', 'União consensual',\n",
       "       'Nenhuma', '1 a 3 anos', '4 a 7 anos', '8 a 11 anos',\n",
       "       '12 anos ou mais', '9 a 11 anos', 'Sem escolaridade',\n",
       "       'Fundamental I', 'Fundamental II', 'Médio', 'Superior incompleto',\n",
       "       'Superior completo', 'Fundamental I incompleto',\n",
       "       'Fundamental I completo', 'Fundamental II incompleto',\n",
       "       'Fundamental II completo', 'Ensino médio incompleto',\n",
       "       'Ensino médio completo', 'Ensino superior incompleto',\n",
       "       'Ensino superior completo',\n",
       "       'Fundamental I incompleto ou inespecifico',\n",
       "       'Fundamental II incompleto ou inespecifico',\n",
       "       'Ensino médio incompleto ou inespecifico', 'Única', 'Dupla',\n",
       "       'Tripla ou mais', 'Menos de 22 semanas', '22 a 27 semanas',\n",
       "       '28 a 31 semanas', '32 a 36 semanas', '37 a 41 semanas',\n",
       "       '42 semanas ou mais', '28 semanas ou mais', '28 a 36 semanas',\n",
       "       '21 a 27 semanas', 'Vaginal', 'Cesáreo', 'Antes', 'Durante',\n",
       "       'Depois', 'Sim', 'Não', '0 a 42 dias', '43 dias a 1 ano',\n",
       "       'Acidente', 'Suicídio', 'Homicídio', 'Outro',\n",
       "       'Boletim de ocorrência', 'Hospital', 'Família', 'Substituto',\n",
       "       'IML', 'SVO', 'Comitê de mortalidade materna e/ou infantil',\n",
       "       'Visita familiar / entrevista família',\n",
       "       'Estabelecimento de saúde / prontuário',\n",
       "       'Relacionamento com outros bancos de dados', 'Outra fonte',\n",
       "       'Múltiplas fontes', 'Durante a gestação', 'Durante o abortamento',\n",
       "       'Após abortamento', 'No parto ou até 1 hora após o parto',\n",
       "       'No puerpério (até 42 dias do término da gestação)',\n",
       "       'Entre o 43º dia e até um ano após o término da gestação',\n",
       "       'Investigação nao identificou o momento do óbito',\n",
       "       'Mais de 1 ano após o parto', 'Outras', 'Na gravidez', 'No parto',\n",
       "       'No aborto', 'Até 42 dias após o parto',\n",
       "       'De 43 dias até 1 ano após o parto', 'Não ocorreu nestes períodos',\n",
       "       'Não acrescentou nem corrigiu informação',\n",
       "       'Sim, permitiu o resgate de novas informações',\n",
       "       'Sim, permitiu a correção de alguma das causas informadas originalmente',\n",
       "       'Estadual', 'Regional', 'Municipal',\n",
       "       'Outro estabelecimento de saúde', 'Domicílio', 'Via pública',\n",
       "       'Outros'], dtype=object)"
      ]
     },
     "execution_count": 28,
     "metadata": {},
     "output_type": "execute_result"
    }
   ],
   "source": [
    "dicionario[\"valor\"].unique()"
   ]
  },
  {
   "cell_type": "code",
   "execution_count": 29,
   "id": "b1af90b9",
   "metadata": {},
   "outputs": [
    {
     "name": "stdout",
     "output_type": "stream",
     "text": [
      "70\n"
     ]
    }
   ],
   "source": [
    "size = []\n",
    "for i in dicionario[\"valor\"].unique():\n",
    "    if isinstance(i, str):\n",
    "        size.append(len(i))\n",
    "\n",
    "print(max(size))"
   ]
  },
  {
   "cell_type": "code",
   "execution_count": null,
   "id": "8407f0ce",
   "metadata": {},
   "outputs": [],
   "source": []
  },
  {
   "cell_type": "code",
   "execution_count": 30,
   "id": "e5568832",
   "metadata": {},
   "outputs": [],
   "source": [
    "del(dicionario)"
   ]
  },
  {
   "cell_type": "markdown",
   "id": "10dd47a0",
   "metadata": {},
   "source": [
    "---\n",
    "\n",
    "## Municipio Causa Idade Sexo Raca\n",
    "\n",
    "SQL:\n",
    "\n",
    "```sql\n",
    "create table municipio_causa_idade_sexo_raca (\n",
    "    id_tabela varchar(31),\n",
    "    coluna varchar(30),\n",
    "    chave varchar(3),\n",
    "    cobertura_temporal varchar(11),\n",
    "    valor varchar(70)\n",
    ");\n",
    "```"
   ]
  },
  {
   "cell_type": "code",
   "execution_count": 33,
   "id": "366d3cde",
   "metadata": {},
   "outputs": [
    {
     "data": {
      "text/plain": [
       "ano                int64\n",
       "sigla_uf          object\n",
       "id_municipio       int64\n",
       "causa_basica      object\n",
       "idade            float64\n",
       "sexo             float64\n",
       "raca_cor         float64\n",
       "numero_obitos      int64\n",
       "dtype: object"
      ]
     },
     "execution_count": 33,
     "metadata": {},
     "output_type": "execute_result"
    }
   ],
   "source": [
    "municipio_causa_idade_sexo_raca.dtypes"
   ]
  },
  {
   "cell_type": "code",
   "execution_count": 32,
   "id": "12e69fdc",
   "metadata": {
    "scrolled": true
   },
   "outputs": [
    {
     "data": {
      "text/html": [
       "<div>\n",
       "<style scoped>\n",
       "    .dataframe tbody tr th:only-of-type {\n",
       "        vertical-align: middle;\n",
       "    }\n",
       "\n",
       "    .dataframe tbody tr th {\n",
       "        vertical-align: top;\n",
       "    }\n",
       "\n",
       "    .dataframe thead th {\n",
       "        text-align: right;\n",
       "    }\n",
       "</style>\n",
       "<table border=\"1\" class=\"dataframe\">\n",
       "  <thead>\n",
       "    <tr style=\"text-align: right;\">\n",
       "      <th></th>\n",
       "      <th>ano</th>\n",
       "      <th>sigla_uf</th>\n",
       "      <th>id_municipio</th>\n",
       "      <th>causa_basica</th>\n",
       "      <th>idade</th>\n",
       "      <th>sexo</th>\n",
       "      <th>raca_cor</th>\n",
       "      <th>numero_obitos</th>\n",
       "    </tr>\n",
       "  </thead>\n",
       "  <tbody>\n",
       "    <tr>\n",
       "      <th>0</th>\n",
       "      <td>1996</td>\n",
       "      <td>AC</td>\n",
       "      <td>1200000</td>\n",
       "      <td>R99</td>\n",
       "      <td>NaN</td>\n",
       "      <td>1.0</td>\n",
       "      <td>NaN</td>\n",
       "      <td>1</td>\n",
       "    </tr>\n",
       "    <tr>\n",
       "      <th>1</th>\n",
       "      <td>1996</td>\n",
       "      <td>AC</td>\n",
       "      <td>1200000</td>\n",
       "      <td>V892</td>\n",
       "      <td>25.0</td>\n",
       "      <td>1.0</td>\n",
       "      <td>NaN</td>\n",
       "      <td>1</td>\n",
       "    </tr>\n",
       "    <tr>\n",
       "      <th>2</th>\n",
       "      <td>1996</td>\n",
       "      <td>AC</td>\n",
       "      <td>1200000</td>\n",
       "      <td>X959</td>\n",
       "      <td>NaN</td>\n",
       "      <td>1.0</td>\n",
       "      <td>3.0</td>\n",
       "      <td>1</td>\n",
       "    </tr>\n",
       "    <tr>\n",
       "      <th>3</th>\n",
       "      <td>1996</td>\n",
       "      <td>AC</td>\n",
       "      <td>1200000</td>\n",
       "      <td>X959</td>\n",
       "      <td>NaN</td>\n",
       "      <td>1.0</td>\n",
       "      <td>NaN</td>\n",
       "      <td>1</td>\n",
       "    </tr>\n",
       "    <tr>\n",
       "      <th>4</th>\n",
       "      <td>1996</td>\n",
       "      <td>AC</td>\n",
       "      <td>1200013</td>\n",
       "      <td>A419</td>\n",
       "      <td>71.0</td>\n",
       "      <td>2.0</td>\n",
       "      <td>NaN</td>\n",
       "      <td>1</td>\n",
       "    </tr>\n",
       "    <tr>\n",
       "      <th>...</th>\n",
       "      <td>...</td>\n",
       "      <td>...</td>\n",
       "      <td>...</td>\n",
       "      <td>...</td>\n",
       "      <td>...</td>\n",
       "      <td>...</td>\n",
       "      <td>...</td>\n",
       "      <td>...</td>\n",
       "    </tr>\n",
       "    <tr>\n",
       "      <th>22618599</th>\n",
       "      <td>2019</td>\n",
       "      <td>TO</td>\n",
       "      <td>1722107</td>\n",
       "      <td>W698</td>\n",
       "      <td>33.0</td>\n",
       "      <td>2.0</td>\n",
       "      <td>4.0</td>\n",
       "      <td>1</td>\n",
       "    </tr>\n",
       "    <tr>\n",
       "      <th>22618600</th>\n",
       "      <td>2019</td>\n",
       "      <td>TO</td>\n",
       "      <td>1722107</td>\n",
       "      <td>X950</td>\n",
       "      <td>25.0</td>\n",
       "      <td>1.0</td>\n",
       "      <td>4.0</td>\n",
       "      <td>1</td>\n",
       "    </tr>\n",
       "    <tr>\n",
       "      <th>22618601</th>\n",
       "      <td>2019</td>\n",
       "      <td>TO</td>\n",
       "      <td>1722107</td>\n",
       "      <td>X950</td>\n",
       "      <td>29.0</td>\n",
       "      <td>1.0</td>\n",
       "      <td>1.0</td>\n",
       "      <td>1</td>\n",
       "    </tr>\n",
       "    <tr>\n",
       "      <th>22618602</th>\n",
       "      <td>2019</td>\n",
       "      <td>TO</td>\n",
       "      <td>1722107</td>\n",
       "      <td>X999</td>\n",
       "      <td>34.0</td>\n",
       "      <td>1.0</td>\n",
       "      <td>4.0</td>\n",
       "      <td>1</td>\n",
       "    </tr>\n",
       "    <tr>\n",
       "      <th>22618603</th>\n",
       "      <td>2019</td>\n",
       "      <td>TO</td>\n",
       "      <td>1722107</td>\n",
       "      <td>Y340</td>\n",
       "      <td>29.0</td>\n",
       "      <td>2.0</td>\n",
       "      <td>4.0</td>\n",
       "      <td>1</td>\n",
       "    </tr>\n",
       "  </tbody>\n",
       "</table>\n",
       "<p>22618604 rows × 8 columns</p>\n",
       "</div>"
      ],
      "text/plain": [
       "           ano sigla_uf  id_municipio causa_basica  idade  sexo  raca_cor  \\\n",
       "0         1996       AC       1200000          R99    NaN   1.0       NaN   \n",
       "1         1996       AC       1200000         V892   25.0   1.0       NaN   \n",
       "2         1996       AC       1200000         X959    NaN   1.0       3.0   \n",
       "3         1996       AC       1200000         X959    NaN   1.0       NaN   \n",
       "4         1996       AC       1200013         A419   71.0   2.0       NaN   \n",
       "...        ...      ...           ...          ...    ...   ...       ...   \n",
       "22618599  2019       TO       1722107         W698   33.0   2.0       4.0   \n",
       "22618600  2019       TO       1722107         X950   25.0   1.0       4.0   \n",
       "22618601  2019       TO       1722107         X950   29.0   1.0       1.0   \n",
       "22618602  2019       TO       1722107         X999   34.0   1.0       4.0   \n",
       "22618603  2019       TO       1722107         Y340   29.0   2.0       4.0   \n",
       "\n",
       "          numero_obitos  \n",
       "0                     1  \n",
       "1                     1  \n",
       "2                     1  \n",
       "3                     1  \n",
       "4                     1  \n",
       "...                 ...  \n",
       "22618599              1  \n",
       "22618600              1  \n",
       "22618601              1  \n",
       "22618602              1  \n",
       "22618603              1  \n",
       "\n",
       "[22618604 rows x 8 columns]"
      ]
     },
     "execution_count": 32,
     "metadata": {},
     "output_type": "execute_result"
    }
   ],
   "source": [
    "municipio_causa_idade_sexo_raca.head()"
   ]
  },
  {
   "cell_type": "code",
   "execution_count": null,
   "id": "69c2bb22",
   "metadata": {},
   "outputs": [],
   "source": [
    "municipio_causa_idade_sexo_raca[\"valor\"].unique()"
   ]
  },
  {
   "cell_type": "code",
   "execution_count": 36,
   "id": "884fd300",
   "metadata": {},
   "outputs": [
    {
     "name": "stdout",
     "output_type": "stream",
     "text": [
      "{'ano': 0, 'sigla_uf': 2, 'id_municipio': 0, 'causa_basica': 4, 'idade': 0, 'sexo': 0, 'raca_cor': 0, 'numero_obitos': 0}\n"
     ]
    }
   ],
   "source": [
    "size = {}\n",
    "size_total = []\n",
    "for column in municipio_causa_idade_sexo_raca.columns:\n",
    "    for i in municipio_causa_idade_sexo_raca[column].unique():\n",
    "        if isinstance(i, str):\n",
    "            size_total.append(len(i))\n",
    "        else:\n",
    "            size_total.append(0)\n",
    "    size[column] = max(size_total)\n",
    "    size_total = []\n",
    "\n",
    "print(size)"
   ]
  },
  {
   "cell_type": "code",
   "execution_count": null,
   "id": "370e8657",
   "metadata": {},
   "outputs": [],
   "source": []
  }
 ],
 "metadata": {
  "kernelspec": {
   "display_name": "Python 3 (ipykernel)",
   "language": "python",
   "name": "python3"
  },
  "language_info": {
   "codemirror_mode": {
    "name": "ipython",
    "version": 3
   },
   "file_extension": ".py",
   "mimetype": "text/x-python",
   "name": "python",
   "nbconvert_exporter": "python",
   "pygments_lexer": "ipython3",
   "version": "3.8.10"
  }
 },
 "nbformat": 4,
 "nbformat_minor": 5
}
