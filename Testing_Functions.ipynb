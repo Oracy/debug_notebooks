{
 "cells": [
  {
   "cell_type": "code",
   "execution_count": 26,
   "id": "8537b250",
   "metadata": {},
   "outputs": [],
   "source": [
    "import os\n",
    "import re\n",
    "from typing import List, Union"
   ]
  },
  {
   "cell_type": "code",
   "execution_count": 45,
   "id": "b3e599de",
   "metadata": {},
   "outputs": [],
   "source": [
    "def get_file_names(files_path: str, folder_name: str) -> List[Union[List[str], List[str]]]:\n",
    "    \"\"\"Get all file names that would be loaded, from specific folder and specific path.\n",
    "\n",
    "    Args:\n",
    "        files_path: File path that parquet are stored, to read it on local folders.\n",
    "        folder_name: Folder name to find files.\n",
    "\n",
    "    Returns:\n",
    "        An array with all create tables. For example:\n",
    "        [\"acute_g_day_bw_all_days\", \"acute_g_day_bw_cons_days\", \"chronic_g_day_bw_to_t_pop\", ...]\n",
    "    \"\"\"\n",
    "    files_name = None\n",
    "    for root, directories, files in os.walk(files_path):\n",
    "        if folder_name in root:\n",
    "            files_name = files\n",
    "    files_name_regexp = [re.sub(\".[a-z]*\", \"\", name) for name in files_name]\n",
    "    return files_name_regexp\n"
   ]
  },
  {
   "cell_type": "code",
   "execution_count": 46,
   "id": "fcff8ceb",
   "metadata": {},
   "outputs": [
    {
     "data": {
      "text/plain": [
       "['', '', '', '', '', '', '']"
      ]
     },
     "execution_count": 46,
     "metadata": {},
     "output_type": "execute_result"
    }
   ],
   "source": [
    "get_file_names(\"/home/martoso/Documents/Git/study/Big_Project/airflow/dags/airflow_dags/eu_efsa_food\", \"create_tables\")"
   ]
  },
  {
   "cell_type": "code",
   "execution_count": 1,
   "id": "76b7332b",
   "metadata": {},
   "outputs": [],
   "source": [
    "def cleanup_xcom(session=None, **kwargs) -> None:\n",
    "    for k, v in kwargs.items():\n",
    "        print(\"CHAVEEEEEE\")\n",
    "        print(k)\n",
    "        print(\"VALOOOOORR\")\n",
    "        print(v)\n",
    "    ti = kwargs[\"ti\"]\n",
    "    try:\n",
    "        # session.query(XCom).filter(\n",
    "        #     XCom.dag_id == ti.dag_id, XCom.execution_date == ti.execution_date\n",
    "        # ).delete()\n",
    "        return \"XCom have been cleaned.\"\n",
    "    except:\n",
    "        return \"Something went wrong to clean XCom.\""
   ]
  },
  {
   "cell_type": "code",
   "execution_count": 3,
   "id": "0310545c",
   "metadata": {},
   "outputs": [
    {
     "ename": "KeyError",
     "evalue": "'ti'",
     "output_type": "error",
     "traceback": [
      "\u001b[0;31m---------------------------------------------------------------------------\u001b[0m",
      "\u001b[0;31mKeyError\u001b[0m                                  Traceback (most recent call last)",
      "\u001b[1;32m/home/martoso/Documents/Git/study/Big_Project/debug_notebooks/Testing_Functions.ipynb Cell 5'\u001b[0m in \u001b[0;36m<module>\u001b[0;34m\u001b[0m\n\u001b[1;32m      <a href='vscode-notebook-cell://wsl%2Bubuntu-20.04/home/martoso/Documents/Git/study/Big_Project/debug_notebooks/Testing_Functions.ipynb#ch0000004vscode-remote?line=0'>1</a>\u001b[0m test_param \u001b[39m=\u001b[39m {\n\u001b[1;32m      <a href='vscode-notebook-cell://wsl%2Bubuntu-20.04/home/martoso/Documents/Git/study/Big_Project/debug_notebooks/Testing_Functions.ipynb#ch0000004vscode-remote?line=1'>2</a>\u001b[0m             \u001b[39m'\u001b[39m\u001b[39mconf\u001b[39m\u001b[39m'\u001b[39m: \u001b[39m\"\u001b[39m\u001b[39m<***.configuration.AirflowConfigParser object at 0x7fed746478d0>\u001b[39m\u001b[39m\"\u001b[39m,\n\u001b[1;32m      <a href='vscode-notebook-cell://wsl%2Bubuntu-20.04/home/martoso/Documents/Git/study/Big_Project/debug_notebooks/Testing_Functions.ipynb#ch0000004vscode-remote?line=2'>3</a>\u001b[0m             \u001b[39m'\u001b[39m\u001b[39mdag\u001b[39m\u001b[39m'\u001b[39m: \u001b[39m\"\u001b[39m\u001b[39m<DAG: test_functions>\u001b[39m\u001b[39m\"\u001b[39m,\n\u001b[0;32m   (...)\u001b[0m\n\u001b[1;32m     <a href='vscode-notebook-cell://wsl%2Bubuntu-20.04/home/martoso/Documents/Git/study/Big_Project/debug_notebooks/Testing_Functions.ipynb#ch0000004vscode-remote?line=40'>41</a>\u001b[0m             \u001b[39m'\u001b[39m\u001b[39mtemplates_dict\u001b[39m\u001b[39m'\u001b[39m: \u001b[39mNone\u001b[39;00m\n\u001b[1;32m     <a href='vscode-notebook-cell://wsl%2Bubuntu-20.04/home/martoso/Documents/Git/study/Big_Project/debug_notebooks/Testing_Functions.ipynb#ch0000004vscode-remote?line=41'>42</a>\u001b[0m             }\n\u001b[0;32m---> <a href='vscode-notebook-cell://wsl%2Bubuntu-20.04/home/martoso/Documents/Git/study/Big_Project/debug_notebooks/Testing_Functions.ipynb#ch0000004vscode-remote?line=42'>43</a>\u001b[0m cleanup_xcom(test_param)\n",
      "\u001b[1;32m/home/martoso/Documents/Git/study/Big_Project/debug_notebooks/Testing_Functions.ipynb Cell 4'\u001b[0m in \u001b[0;36mcleanup_xcom\u001b[0;34m(session, **kwargs)\u001b[0m\n\u001b[1;32m      <a href='vscode-notebook-cell://wsl%2Bubuntu-20.04/home/martoso/Documents/Git/study/Big_Project/debug_notebooks/Testing_Functions.ipynb#ch0000003vscode-remote?line=4'>5</a>\u001b[0m     \u001b[39mprint\u001b[39m(\u001b[39m\"\u001b[39m\u001b[39mVALOOOOORR\u001b[39m\u001b[39m\"\u001b[39m)\n\u001b[1;32m      <a href='vscode-notebook-cell://wsl%2Bubuntu-20.04/home/martoso/Documents/Git/study/Big_Project/debug_notebooks/Testing_Functions.ipynb#ch0000003vscode-remote?line=5'>6</a>\u001b[0m     \u001b[39mprint\u001b[39m(v)\n\u001b[0;32m----> <a href='vscode-notebook-cell://wsl%2Bubuntu-20.04/home/martoso/Documents/Git/study/Big_Project/debug_notebooks/Testing_Functions.ipynb#ch0000003vscode-remote?line=6'>7</a>\u001b[0m ti \u001b[39m=\u001b[39m kwargs[\u001b[39m\"\u001b[39;49m\u001b[39mti\u001b[39;49m\u001b[39m\"\u001b[39;49m]\n\u001b[1;32m      <a href='vscode-notebook-cell://wsl%2Bubuntu-20.04/home/martoso/Documents/Git/study/Big_Project/debug_notebooks/Testing_Functions.ipynb#ch0000003vscode-remote?line=7'>8</a>\u001b[0m \u001b[39mtry\u001b[39;00m:\n\u001b[1;32m      <a href='vscode-notebook-cell://wsl%2Bubuntu-20.04/home/martoso/Documents/Git/study/Big_Project/debug_notebooks/Testing_Functions.ipynb#ch0000003vscode-remote?line=8'>9</a>\u001b[0m     \u001b[39m# session.query(XCom).filter(\u001b[39;00m\n\u001b[1;32m     <a href='vscode-notebook-cell://wsl%2Bubuntu-20.04/home/martoso/Documents/Git/study/Big_Project/debug_notebooks/Testing_Functions.ipynb#ch0000003vscode-remote?line=9'>10</a>\u001b[0m     \u001b[39m#     XCom.dag_id == ti.dag_id, XCom.execution_date == ti.execution_date\u001b[39;00m\n\u001b[1;32m     <a href='vscode-notebook-cell://wsl%2Bubuntu-20.04/home/martoso/Documents/Git/study/Big_Project/debug_notebooks/Testing_Functions.ipynb#ch0000003vscode-remote?line=10'>11</a>\u001b[0m     \u001b[39m# ).delete()\u001b[39;00m\n\u001b[1;32m     <a href='vscode-notebook-cell://wsl%2Bubuntu-20.04/home/martoso/Documents/Git/study/Big_Project/debug_notebooks/Testing_Functions.ipynb#ch0000003vscode-remote?line=11'>12</a>\u001b[0m     \u001b[39mreturn\u001b[39;00m \u001b[39m\"\u001b[39m\u001b[39mXCom have been cleaned.\u001b[39m\u001b[39m\"\u001b[39m\n",
      "\u001b[0;31mKeyError\u001b[0m: 'ti'"
     ]
    }
   ],
   "source": [
    "test_param = {\n",
    "            'conf': \"<***.configuration.AirflowConfigParser object at 0x7fed746478d0>\",\n",
    "            'dag': \"<DAG: test_functions>\",\n",
    "            'dag_run': \"<DagRun test_functions @ 2022-02-11 06:00:00+00:00: scheduled__2022-02-11T06:00:00+00:00, externally triggered: False>\",\n",
    "            'data_interval_end': None,\n",
    "            'data_interval_start': None,\n",
    "            'ds': '2022-02-11',\n",
    "            'ds_nodash': '20220211',\n",
    "            'execution_date': None,\n",
    "            'inlets': [],\n",
    "            'logical_date': None,\n",
    "            'macros': \"<module '***.macros' from '/home/***/.local/lib/python3.7/site-packages/***/macros/__init__.py'>\",\n",
    "            'next_ds': '2022-02-12',\n",
    "            'next_ds_nodash': '20220212',\n",
    "            'next_execution_date': None,\n",
    "            'outlets': [],\n",
    "            'params': {},\n",
    "            'prev_data_interval_start_success': None,\n",
    "            'prev_data_interval_end_success': None,\n",
    "            'prev_ds': '2022-02-10',\n",
    "            'prev_ds_nodash': '20220210',\n",
    "            'prev_execution_date': None,\n",
    "            'prev_execution_date_success': None,\n",
    "            'prev_start_date_success': None,\n",
    "            'run_id': 'scheduled__2022-02-11T06:00:00+00:00',\n",
    "            'task': \"<Task(PythonOperator): testing_clean_up>\",\n",
    "            'task_instance': \"<TaskInstance: test_functions.testing_clean_up scheduled__2022-02-11T06:00:00+00:00 [running]>\",\n",
    "            'task_instance_key_str': 'test_functions__testing_clean_up__20220211',\n",
    "            'test_mode': False,\n",
    "            'ti': \"<TaskInstance: test_functions.testing_clean_up scheduled__2022-02-11T06:00:00+00:00 [running]>\",\n",
    "            'tomorrow_ds': '2022-02-12',\n",
    "            'tomorrow_ds_nodash': '20220212',\n",
    "            'ts': '2022-02-11T06:00:00+00:00',\n",
    "            'ts_nodash': '20220211T060000',\n",
    "            'ts_nodash_with_tz': '20220211T060000+0000',\n",
    "            'var': {'json': None,\n",
    "            'value': None},\n",
    "            'conn': None,\n",
    "            'yesterday_ds': '2022-02-10',\n",
    "            'yesterday_ds_nodash': '20220210',\n",
    "            'templates_dict': None\n",
    "            }\n",
    "cleanup_xcom(test_param)"
   ]
  }
 ],
 "metadata": {
  "kernelspec": {
   "display_name": "Python 3 (ipykernel)",
   "language": "python",
   "name": "python3"
  },
  "language_info": {
   "codemirror_mode": {
    "name": "ipython",
    "version": 3
   },
   "file_extension": ".py",
   "mimetype": "text/x-python",
   "name": "python",
   "nbconvert_exporter": "python",
   "pygments_lexer": "ipython3",
   "version": "3.8.10"
  }
 },
 "nbformat": 4,
 "nbformat_minor": 5
}
